{
 "cells": [
  {
   "cell_type": "markdown",
   "metadata": {},
   "source": [
    "# Web_Plotting_Tool"
   ]
  },
  {
   "cell_type": "markdown",
   "metadata": {},
   "source": [
    "### a) Combining the two dataframes under filename 'DST(1975-1999).csv' and 'DST(2000-2018).csv' under one dataset"
   ]
  },
  {
   "cell_type": "code",
   "execution_count": 1,
   "metadata": {
    "collapsed": true
   },
   "outputs": [],
   "source": [
    "import pandas as pd\n",
    "from datetime import datetime\n",
    "#load the Dataset('DST(1975-1999).csv') as df1\n",
    "df1=pd.read_csv('DST(1975-1999).csv',index_col=0)\n",
    "#load the Dataset('DST(2000-2018).csv') as df2\n",
    "df2=pd.read_csv('DST(2000-2018).csv',index_col=0)\n",
    "#Combine(Concatenate) both the Datasets and make one dataset dt\n",
    "frames = [df1, df2]\n",
    "df=pd.concat(frames)"
   ]
  },
  {
   "cell_type": "markdown",
   "metadata": {},
   "source": [
    "### b) Viewing the columns of the combined dataset"
   ]
  },
  {
   "cell_type": "code",
   "execution_count": 2,
   "metadata": {
    "scrolled": true
   },
   "outputs": [
    {
     "data": {
      "text/plain": [
       "Index(['DayofYear', 'Date', 'Month', 'Year', 'Time(Hrs)', 'Dst Index'], dtype='object')"
      ]
     },
     "execution_count": 2,
     "metadata": {},
     "output_type": "execute_result"
    }
   ],
   "source": [
    "df.columns"
   ]
  },
  {
   "cell_type": "markdown",
   "metadata": {},
   "source": [
    "### c) Setting the corresponding year ,month ,day and hour"
   ]
  },
  {
   "cell_type": "code",
   "execution_count": 3,
   "metadata": {
    "collapsed": true
   },
   "outputs": [],
   "source": [
    "datetime=pd.DataFrame()\n",
    "datetime= pd.DataFrame({'year': df['Year'],\n",
    "                       'month': df['Month'],\n",
    "                       'day': df['Date'],\n",
    "                       'hour':df['Time(Hrs)']})"
   ]
  },
  {
   "cell_type": "markdown",
   "metadata": {},
   "source": [
    "### d)Creating the dataset and converting 'Datetime' from string to datetime format"
   ]
  },
  {
   "cell_type": "code",
   "execution_count": 4,
   "metadata": {
    "collapsed": true
   },
   "outputs": [],
   "source": [
    "df_DST=pd.DataFrame()\n",
    "df_DST['Datetime']=pd.to_datetime(datetime)\n"
   ]
  },
  {
   "cell_type": "markdown",
   "metadata": {},
   "source": [
    "### e) Set 'Datetime' as the index and delete the column"
   ]
  },
  {
   "cell_type": "code",
   "execution_count": 5,
   "metadata": {
    "collapsed": true
   },
   "outputs": [],
   "source": [
    "df_DST['DST Index']=df['Dst Index']\n",
    "df_DST.index=df_DST['Datetime']\n",
    "df_DST=df_DST.drop('Datetime',axis=1)"
   ]
  },
  {
   "cell_type": "markdown",
   "metadata": {},
   "source": [
    "### f)Displaying the new dataframe with index set as datetime"
   ]
  },
  {
   "cell_type": "code",
   "execution_count": 6,
   "metadata": {},
   "outputs": [
    {
     "data": {
      "text/html": [
       "<div>\n",
       "<style>\n",
       "    .dataframe thead tr:only-child th {\n",
       "        text-align: right;\n",
       "    }\n",
       "\n",
       "    .dataframe thead th {\n",
       "        text-align: left;\n",
       "    }\n",
       "\n",
       "    .dataframe tbody tr th {\n",
       "        vertical-align: top;\n",
       "    }\n",
       "</style>\n",
       "<table border=\"1\" class=\"dataframe\">\n",
       "  <thead>\n",
       "    <tr style=\"text-align: right;\">\n",
       "      <th></th>\n",
       "      <th>DST Index</th>\n",
       "    </tr>\n",
       "    <tr>\n",
       "      <th>Datetime</th>\n",
       "      <th></th>\n",
       "    </tr>\n",
       "  </thead>\n",
       "  <tbody>\n",
       "    <tr>\n",
       "      <th>1975-01-01 00:00:00</th>\n",
       "      <td>-7.0</td>\n",
       "    </tr>\n",
       "    <tr>\n",
       "      <th>1975-01-01 01:00:00</th>\n",
       "      <td>-9.0</td>\n",
       "    </tr>\n",
       "    <tr>\n",
       "      <th>1975-01-01 02:00:00</th>\n",
       "      <td>-10.0</td>\n",
       "    </tr>\n",
       "    <tr>\n",
       "      <th>1975-01-01 03:00:00</th>\n",
       "      <td>-11.0</td>\n",
       "    </tr>\n",
       "    <tr>\n",
       "      <th>1975-01-01 04:00:00</th>\n",
       "      <td>-12.0</td>\n",
       "    </tr>\n",
       "    <tr>\n",
       "      <th>1975-01-01 05:00:00</th>\n",
       "      <td>-9.0</td>\n",
       "    </tr>\n",
       "    <tr>\n",
       "      <th>1975-01-01 06:00:00</th>\n",
       "      <td>-8.0</td>\n",
       "    </tr>\n",
       "    <tr>\n",
       "      <th>1975-01-01 07:00:00</th>\n",
       "      <td>-7.0</td>\n",
       "    </tr>\n",
       "    <tr>\n",
       "      <th>1975-01-01 08:00:00</th>\n",
       "      <td>-14.0</td>\n",
       "    </tr>\n",
       "    <tr>\n",
       "      <th>1975-01-01 09:00:00</th>\n",
       "      <td>-13.0</td>\n",
       "    </tr>\n",
       "    <tr>\n",
       "      <th>1975-01-01 10:00:00</th>\n",
       "      <td>-10.0</td>\n",
       "    </tr>\n",
       "    <tr>\n",
       "      <th>1975-01-01 11:00:00</th>\n",
       "      <td>-9.0</td>\n",
       "    </tr>\n",
       "    <tr>\n",
       "      <th>1975-01-01 12:00:00</th>\n",
       "      <td>-10.0</td>\n",
       "    </tr>\n",
       "    <tr>\n",
       "      <th>1975-01-01 13:00:00</th>\n",
       "      <td>-8.0</td>\n",
       "    </tr>\n",
       "    <tr>\n",
       "      <th>1975-01-01 14:00:00</th>\n",
       "      <td>-5.0</td>\n",
       "    </tr>\n",
       "    <tr>\n",
       "      <th>1975-01-01 15:00:00</th>\n",
       "      <td>-5.0</td>\n",
       "    </tr>\n",
       "    <tr>\n",
       "      <th>1975-01-01 16:00:00</th>\n",
       "      <td>-8.0</td>\n",
       "    </tr>\n",
       "    <tr>\n",
       "      <th>1975-01-01 17:00:00</th>\n",
       "      <td>-8.0</td>\n",
       "    </tr>\n",
       "    <tr>\n",
       "      <th>1975-01-01 18:00:00</th>\n",
       "      <td>-7.0</td>\n",
       "    </tr>\n",
       "    <tr>\n",
       "      <th>1975-01-01 19:00:00</th>\n",
       "      <td>-9.0</td>\n",
       "    </tr>\n",
       "    <tr>\n",
       "      <th>1975-01-01 20:00:00</th>\n",
       "      <td>-9.0</td>\n",
       "    </tr>\n",
       "    <tr>\n",
       "      <th>1975-01-01 21:00:00</th>\n",
       "      <td>-7.0</td>\n",
       "    </tr>\n",
       "    <tr>\n",
       "      <th>1975-01-01 22:00:00</th>\n",
       "      <td>-7.0</td>\n",
       "    </tr>\n",
       "    <tr>\n",
       "      <th>1975-01-01 23:00:00</th>\n",
       "      <td>-10.0</td>\n",
       "    </tr>\n",
       "    <tr>\n",
       "      <th>1975-01-02 00:00:00</th>\n",
       "      <td>-10.0</td>\n",
       "    </tr>\n",
       "    <tr>\n",
       "      <th>1975-01-02 01:00:00</th>\n",
       "      <td>-10.0</td>\n",
       "    </tr>\n",
       "    <tr>\n",
       "      <th>1975-01-02 02:00:00</th>\n",
       "      <td>-8.0</td>\n",
       "    </tr>\n",
       "    <tr>\n",
       "      <th>1975-01-02 03:00:00</th>\n",
       "      <td>-6.0</td>\n",
       "    </tr>\n",
       "    <tr>\n",
       "      <th>1975-01-02 04:00:00</th>\n",
       "      <td>-5.0</td>\n",
       "    </tr>\n",
       "    <tr>\n",
       "      <th>1975-01-02 05:00:00</th>\n",
       "      <td>-2.0</td>\n",
       "    </tr>\n",
       "    <tr>\n",
       "      <th>...</th>\n",
       "      <td>...</td>\n",
       "    </tr>\n",
       "    <tr>\n",
       "      <th>2018-02-27 18:00:00</th>\n",
       "      <td>-16.0</td>\n",
       "    </tr>\n",
       "    <tr>\n",
       "      <th>2018-02-27 19:00:00</th>\n",
       "      <td>-15.0</td>\n",
       "    </tr>\n",
       "    <tr>\n",
       "      <th>2018-02-27 20:00:00</th>\n",
       "      <td>-12.0</td>\n",
       "    </tr>\n",
       "    <tr>\n",
       "      <th>2018-02-27 21:00:00</th>\n",
       "      <td>-6.0</td>\n",
       "    </tr>\n",
       "    <tr>\n",
       "      <th>2018-02-27 22:00:00</th>\n",
       "      <td>-1.0</td>\n",
       "    </tr>\n",
       "    <tr>\n",
       "      <th>2018-02-27 23:00:00</th>\n",
       "      <td>2.0</td>\n",
       "    </tr>\n",
       "    <tr>\n",
       "      <th>2018-02-28 00:00:00</th>\n",
       "      <td>1.0</td>\n",
       "    </tr>\n",
       "    <tr>\n",
       "      <th>2018-02-28 01:00:00</th>\n",
       "      <td>3.0</td>\n",
       "    </tr>\n",
       "    <tr>\n",
       "      <th>2018-02-28 02:00:00</th>\n",
       "      <td>5.0</td>\n",
       "    </tr>\n",
       "    <tr>\n",
       "      <th>2018-02-28 03:00:00</th>\n",
       "      <td>1.0</td>\n",
       "    </tr>\n",
       "    <tr>\n",
       "      <th>2018-02-28 04:00:00</th>\n",
       "      <td>-2.0</td>\n",
       "    </tr>\n",
       "    <tr>\n",
       "      <th>2018-02-28 05:00:00</th>\n",
       "      <td>-4.0</td>\n",
       "    </tr>\n",
       "    <tr>\n",
       "      <th>2018-02-28 06:00:00</th>\n",
       "      <td>-8.0</td>\n",
       "    </tr>\n",
       "    <tr>\n",
       "      <th>2018-02-28 07:00:00</th>\n",
       "      <td>-11.0</td>\n",
       "    </tr>\n",
       "    <tr>\n",
       "      <th>2018-02-28 08:00:00</th>\n",
       "      <td>-11.0</td>\n",
       "    </tr>\n",
       "    <tr>\n",
       "      <th>2018-02-28 09:00:00</th>\n",
       "      <td>-9.0</td>\n",
       "    </tr>\n",
       "    <tr>\n",
       "      <th>2018-02-28 10:00:00</th>\n",
       "      <td>-10.0</td>\n",
       "    </tr>\n",
       "    <tr>\n",
       "      <th>2018-02-28 11:00:00</th>\n",
       "      <td>-7.0</td>\n",
       "    </tr>\n",
       "    <tr>\n",
       "      <th>2018-02-28 12:00:00</th>\n",
       "      <td>-5.0</td>\n",
       "    </tr>\n",
       "    <tr>\n",
       "      <th>2018-02-28 13:00:00</th>\n",
       "      <td>-4.0</td>\n",
       "    </tr>\n",
       "    <tr>\n",
       "      <th>2018-02-28 14:00:00</th>\n",
       "      <td>-3.0</td>\n",
       "    </tr>\n",
       "    <tr>\n",
       "      <th>2018-02-28 15:00:00</th>\n",
       "      <td>-1.0</td>\n",
       "    </tr>\n",
       "    <tr>\n",
       "      <th>2018-02-28 16:00:00</th>\n",
       "      <td>-4.0</td>\n",
       "    </tr>\n",
       "    <tr>\n",
       "      <th>2018-02-28 17:00:00</th>\n",
       "      <td>-6.0</td>\n",
       "    </tr>\n",
       "    <tr>\n",
       "      <th>2018-02-28 18:00:00</th>\n",
       "      <td>-6.0</td>\n",
       "    </tr>\n",
       "    <tr>\n",
       "      <th>2018-02-28 19:00:00</th>\n",
       "      <td>-5.0</td>\n",
       "    </tr>\n",
       "    <tr>\n",
       "      <th>2018-02-28 20:00:00</th>\n",
       "      <td>-2.0</td>\n",
       "    </tr>\n",
       "    <tr>\n",
       "      <th>2018-02-28 21:00:00</th>\n",
       "      <td>-1.0</td>\n",
       "    </tr>\n",
       "    <tr>\n",
       "      <th>2018-02-28 22:00:00</th>\n",
       "      <td>2.0</td>\n",
       "    </tr>\n",
       "    <tr>\n",
       "      <th>2018-02-28 23:00:00</th>\n",
       "      <td>4.0</td>\n",
       "    </tr>\n",
       "  </tbody>\n",
       "</table>\n",
       "<p>378360 rows × 1 columns</p>\n",
       "</div>"
      ],
      "text/plain": [
       "                     DST Index\n",
       "Datetime                      \n",
       "1975-01-01 00:00:00       -7.0\n",
       "1975-01-01 01:00:00       -9.0\n",
       "1975-01-01 02:00:00      -10.0\n",
       "1975-01-01 03:00:00      -11.0\n",
       "1975-01-01 04:00:00      -12.0\n",
       "1975-01-01 05:00:00       -9.0\n",
       "1975-01-01 06:00:00       -8.0\n",
       "1975-01-01 07:00:00       -7.0\n",
       "1975-01-01 08:00:00      -14.0\n",
       "1975-01-01 09:00:00      -13.0\n",
       "1975-01-01 10:00:00      -10.0\n",
       "1975-01-01 11:00:00       -9.0\n",
       "1975-01-01 12:00:00      -10.0\n",
       "1975-01-01 13:00:00       -8.0\n",
       "1975-01-01 14:00:00       -5.0\n",
       "1975-01-01 15:00:00       -5.0\n",
       "1975-01-01 16:00:00       -8.0\n",
       "1975-01-01 17:00:00       -8.0\n",
       "1975-01-01 18:00:00       -7.0\n",
       "1975-01-01 19:00:00       -9.0\n",
       "1975-01-01 20:00:00       -9.0\n",
       "1975-01-01 21:00:00       -7.0\n",
       "1975-01-01 22:00:00       -7.0\n",
       "1975-01-01 23:00:00      -10.0\n",
       "1975-01-02 00:00:00      -10.0\n",
       "1975-01-02 01:00:00      -10.0\n",
       "1975-01-02 02:00:00       -8.0\n",
       "1975-01-02 03:00:00       -6.0\n",
       "1975-01-02 04:00:00       -5.0\n",
       "1975-01-02 05:00:00       -2.0\n",
       "...                        ...\n",
       "2018-02-27 18:00:00      -16.0\n",
       "2018-02-27 19:00:00      -15.0\n",
       "2018-02-27 20:00:00      -12.0\n",
       "2018-02-27 21:00:00       -6.0\n",
       "2018-02-27 22:00:00       -1.0\n",
       "2018-02-27 23:00:00        2.0\n",
       "2018-02-28 00:00:00        1.0\n",
       "2018-02-28 01:00:00        3.0\n",
       "2018-02-28 02:00:00        5.0\n",
       "2018-02-28 03:00:00        1.0\n",
       "2018-02-28 04:00:00       -2.0\n",
       "2018-02-28 05:00:00       -4.0\n",
       "2018-02-28 06:00:00       -8.0\n",
       "2018-02-28 07:00:00      -11.0\n",
       "2018-02-28 08:00:00      -11.0\n",
       "2018-02-28 09:00:00       -9.0\n",
       "2018-02-28 10:00:00      -10.0\n",
       "2018-02-28 11:00:00       -7.0\n",
       "2018-02-28 12:00:00       -5.0\n",
       "2018-02-28 13:00:00       -4.0\n",
       "2018-02-28 14:00:00       -3.0\n",
       "2018-02-28 15:00:00       -1.0\n",
       "2018-02-28 16:00:00       -4.0\n",
       "2018-02-28 17:00:00       -6.0\n",
       "2018-02-28 18:00:00       -6.0\n",
       "2018-02-28 19:00:00       -5.0\n",
       "2018-02-28 20:00:00       -2.0\n",
       "2018-02-28 21:00:00       -1.0\n",
       "2018-02-28 22:00:00        2.0\n",
       "2018-02-28 23:00:00        4.0\n",
       "\n",
       "[378360 rows x 1 columns]"
      ]
     },
     "execution_count": 6,
     "metadata": {},
     "output_type": "execute_result"
    }
   ],
   "source": [
    "df_DST"
   ]
  },
  {
   "cell_type": "markdown",
   "metadata": {},
   "source": [
    "### g) Convereting the Dataframe  to csv Format('DST(Time-Series Format).csv')"
   ]
  },
  {
   "cell_type": "code",
   "execution_count": 7,
   "metadata": {
    "collapsed": true
   },
   "outputs": [],
   "source": [
    "df_DST.to_csv('DST(Time-Series Format).csv')"
   ]
  },
  {
   "cell_type": "markdown",
   "metadata": {},
   "source": [
    "### h) DST Plot from a start Date to end Date"
   ]
  },
  {
   "cell_type": "code",
   "execution_count": 8,
   "metadata": {},
   "outputs": [
    {
     "name": "stdout",
     "output_type": "stream",
     "text": [
      "THE DST INDEX VALUE IS PRESENT FROM YEAR 1975 TO YEAR 2018 FEBRURAY.ENTER THE DETAILS TO GET THE CORRESPONDING PLOT\n",
      "\n",
      "Enter the Starting Date from where you want the plot in the form yyyy-mm-dd\n",
      "2017-01\n",
      "Enter the Ending Date upto which you want the plot in the form yyyy-mm-dd\n",
      "2018-02\n"
     ]
    }
   ],
   "source": [
    "print('THE DST INDEX VALUE IS PRESENT FROM YEAR 1975 TO YEAR 2018 FEBRURAY.ENTER THE DETAILS TO GET THE CORRESPONDING PLOT\\n')\n",
    "print(\"Enter the Starting Date from where you want the plot in the form yyyy-mm-dd\")\n",
    "start=input()\n",
    "print(\"Enter the Ending Date upto which you want the plot in the form yyyy-mm-dd\")\n",
    "end=input()"
   ]
  },
  {
   "cell_type": "code",
   "execution_count": 9,
   "metadata": {
    "collapsed": true
   },
   "outputs": [],
   "source": [
    "view=df_DST[start:end]"
   ]
  },
  {
   "cell_type": "code",
   "execution_count": 10,
   "metadata": {},
   "outputs": [
    {
     "data": {
      "image/png": "[encoded data removed]",
      "text/plain": [
       "<matplotlib.figure.Figure at 0x21151b7f550>"
      ]
     },
     "metadata": {},
     "output_type": "display_data"
    }
   ],
   "source": [
    "import matplotlib.pyplot as plt\n",
    "import seaborn as sns\n",
    "plt.plot(view)\n",
    "plt.xlabel('Date/Hrs')\n",
    "plt.ylabel('DST Index')\n",
    "plt.title('DST Index Plot')\n",
    "sns.set()\n",
    "plt.show()"
   ]
  },
  {
   "cell_type": "markdown",
   "metadata": {},
   "source": [
    "### h) DST Plot from a start Date to end Date under filename 'line_DST.html' is created(Using Bokeh)"
   ]
  },
  {
   "cell_type": "code",
   "execution_count": 11,
   "metadata": {
    "collapsed": true
   },
   "outputs": [],
   "source": [
    "# Import figure from bokeh.plotting\n",
    "#Bokeh is an interactive data visualization library for Python (and other languages!) \n",
    "#that targets modern web browsers for presentation. \n",
    "#It can create versatile, data-driven graphics, \n",
    "#and connect the full power of the entire Python data-science stack to rich, interactive visualizations.\n",
    "\n",
    "from bokeh.plotting import figure\n",
    "# Import output_file and show from bokeh.io\n",
    "from bokeh.io import output_file,show\n",
    "df=pd.read_csv('DST(Time-Series Format).csv')\n",
    "df['Datetime'] = pd.to_datetime(df['Datetime'])\n",
    "df.index=df['Datetime']\n",
    "# Create a figure with x_axis_type=\"datetime\": p\n",
    "plot = figure(x_axis_type='datetime',x_axis_label='Date', y_axis_label='DST')\n",
    "\n",
    "# Plot date along the x axis and price along the y axis\n",
    "plot.line(df[start:end].index,df.loc[start:end]['DST Index'])\n",
    "\n",
    "# Specify the name of the output file and show the result\n",
    "output_file('line_DST.html')\n",
    "show(plot)\n"
   ]
  },
  {
   "cell_type": "markdown",
   "metadata": {},
   "source": [
    "### Creating an interactive Web Tool with year slider using Bokeh"
   ]
  },
  {
   "cell_type": "markdown",
   "metadata": {},
   "source": [
    "Run in Terminal using: bokeh serve --show Slider_Year.py"
   ]
  },
  {
   "cell_type": "code",
   "execution_count": 12,
   "metadata": {
    "collapsed": true
   },
   "outputs": [],
   "source": [
    "import pandas as pd\n",
    "from bokeh.io import curdoc\n",
    "from bokeh.models import ColumnDataSource\n",
    "from bokeh.plotting import figure\n",
    "from bokeh.models import Slider\n",
    "from bokeh.layouts import widgetbox, row,column\n",
    "\n",
    "df=pd.read_csv('DST(Time-Series Format).csv')\n",
    "df['Datetime'] = pd.to_datetime(df['Datetime'])\n",
    "df.index=df['Datetime']\n",
    "\n",
    "\n",
    "# Define a callback function: callback\n",
    "def callback(attr, old, new):\n",
    "    \n",
    "    # Read the current value of the slider: scale\n",
    "    year = slider.value\n",
    "    new_data={'x' :df.loc[(str(year))]['Datetime'],'y' :df.loc[(str(year))]['DST Index']}\n",
    "    # Update source with the new data values\n",
    "    source.data = new_data\n",
    "    plot.title.text = 'DST Index Plot for year %d' % year\n",
    "\n",
    "\n",
    "source = ColumnDataSource(data={\n",
    "    'x'       : df['1975']['Datetime'],\n",
    "    'y'       : df.loc['1975']['DST Index']\n",
    "})\n",
    "                          \n",
    "\n",
    "plot = figure(x_axis_type='datetime',x_axis_label='Date', y_axis_label='DST',plot_width=1000)\n",
    "                          \n",
    "# Add a line to the plot\n",
    "plot.line(x='x', y='y', source=source)\n",
    "#Add the slider\n",
    "slider = Slider(title='Slider to Change Year',start=1975, end=2018, step=1, value=2000)\n",
    "\n",
    "\n",
    "\n",
    "# Attach the callback to the 'value' property of slider\n",
    "slider.on_change('value',callback)\n",
    "\n",
    "# Create layout and add to current document\n",
    "layout = column(widgetbox(slider), plot)\n",
    "\n",
    "# Add the layout to the current document\n",
    "curdoc().add_root(layout)"
   ]
  },
  {
   "cell_type": "markdown",
   "metadata": {},
   "source": [
    "**This is just a screenshot of the Interactive tool which can run after making a Bokeh server using command \"bokeh serve --show Slider_Year.py\" from commandLine**\n",
    "\n",
    "<img src=\"Slider.PNG\">"
   ]
  },
  {
   "cell_type": "markdown",
   "metadata": {},
   "source": [
    "### Creating an interactive Web Tool with year and Month Drop Down using Bokeh"
   ]
  },
  {
   "cell_type": "markdown",
   "metadata": {},
   "source": [
    "Run in terminal using: bokeh serve --show Drop_Down.py"
   ]
  },
  {
   "cell_type": "code",
   "execution_count": 13,
   "metadata": {
    "collapsed": true
   },
   "outputs": [],
   "source": [
    "import pandas as pd\n",
    "from bokeh.io import curdoc\n",
    "from bokeh.models import ColumnDataSource\n",
    "from bokeh.plotting import figure\n",
    "from bokeh.models.widgets import (Select)\n",
    "from bokeh.layouts import widgetbox, row,column\n",
    "\n",
    "df=pd.read_csv('DST(Time-Series Format).csv')\n",
    "df['Datetime'] = pd.to_datetime(df['Datetime'])\n",
    "df.index=df['Datetime']\n",
    "\n",
    "\n",
    "# Define a update_plot function: update_plot\n",
    "def update_plot(attr, old, new):\n",
    "    \n",
    "    # Read the current value of the year and if it is 2018 then only we can select months:01 & 02 only till that date,the value is updated\n",
    "    if (str(year_select))!='2018':\n",
    "        month_select.options=['01','02','03','04','05','06','07','08','09','10','11','12']\n",
    "    else:\n",
    "        month_select.options=['01','02']\n",
    "        \n",
    "    year = year_select.value\n",
    "    month= month_select.value\n",
    "    date=str(year)+'-'+str(month)\n",
    "    \n",
    "    new_data={'x' :df.loc[(str(date))]['Datetime'],'y' :df.loc[(str(date))]['DST Index']}\n",
    "    # Update source with the new data values\n",
    "    source.data = new_data\n",
    "    #Display the new date for which the Plot is Drawn\n",
    "    plot.title.text = 'DST Index Plot for Date %s' % date\n",
    "\n",
    "\n",
    "source = ColumnDataSource(data={\n",
    "    'x'       : df['1975-01']['Datetime'],\n",
    "    'y'       : df.loc['1975-01']['DST Index']\n",
    "})\n",
    "                          \n",
    "\n",
    "plot = figure(x_axis_type='datetime',x_axis_label='Date', y_axis_label='DST',plot_width=1000)\n",
    "year_options=[]\n",
    "# Add a line to the plot\n",
    "plot.line(x='x', y='y', source=source)\n",
    "for i in range(1975,2019):\n",
    "    year_options.append(str(i))\n",
    "    \n",
    "year_select = Select(\n",
    "    options=year_options,\n",
    "    value='2000',\n",
    "    title='Year'\n",
    ")\n",
    "year_select.on_change('value', update_plot)\n",
    "# Attach the update_plot callback to the 'value' property of year_select\n",
    "\n",
    "\n",
    "month_select = Select(\n",
    "    options=['01','02','03','04','05','06','07','08','09','10','11','12'],\n",
    "    value='01',\n",
    "    title='Month'\n",
    ")\n",
    "\n",
    "# Attach the update_plot callback to the 'value' property of month_select\n",
    "\n",
    "month_select.on_change('value', update_plot)\n",
    "\n",
    "# Create layout and add to current document\n",
    "layout = column(widgetbox(year_select,month_select), plot)\n",
    "\n",
    "# Add the layout to the current document\n",
    "curdoc().add_root(layout)"
   ]
  },
  {
   "cell_type": "markdown",
   "metadata": {},
   "source": [
    "**This is just a screenshot of the Interactive tool which can run after making a Bokeh server using command \"bokeh serve --show Drop_Down.py\" from commandLine**\n",
    "\n",
    "<img src=\"Drop_Down.PNG\">"
   ]
  },
  {
   "cell_type": "code",
   "execution_count": null,
   "metadata": {
    "collapsed": true
   },
   "outputs": [],
   "source": []
  }
 ],
 "metadata": {
  "kernelspec": {
   "display_name": "Python 3",
   "language": "python",
   "name": "python3"
  },
  "language_info": {
   "codemirror_mode": {
    "name": "ipython",
    "version": 3
   },
   "file_extension": ".py",
   "mimetype": "text/x-python",
   "name": "python",
   "nbconvert_exporter": "python",
   "pygments_lexer": "ipython3",
   "version": "3.6.1"
  }
 },
 "nbformat": 4,
 "nbformat_minor": 2
}
